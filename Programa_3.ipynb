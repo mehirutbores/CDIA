{
  "nbformat": 4,
  "nbformat_minor": 0,
  "metadata": {
    "colab": {
      "provenance": []
    },
    "kernelspec": {
      "name": "python3",
      "display_name": "Python 3"
    },
    "language_info": {
      "name": "python"
    }
  },
  "cells": [
    {
      "cell_type": "code",
      "execution_count": 13,
      "metadata": {
        "colab": {
          "base_uri": "https://localhost:8080/"
        },
        "id": "ZgQLZfIkGhdr",
        "outputId": "6090f091-edfa-495f-996c-305b9c029de5"
      },
      "outputs": [
        {
          "output_type": "stream",
          "name": "stdout",
          "text": [
            "Dame tu nombre\n",
            "mei\n",
            "dame tu salario\n",
            "3\n",
            "Dame tu nombre\n",
            "mai\n",
            "dame tu salario\n",
            "40\n",
            "Dame tu nombre\n",
            "moi\n",
            "dame tu salario\n",
            "1\n",
            "La nómina total es: 0\n",
            "El empleado que más gana es: mai con un salario de 40.0\n"
          ]
        }
      ],
      "source": [
        "empleado=[]\n",
        "salario=[]\n",
        "pago=[]\n",
        "def datos(empleado, pago):\n",
        "    for i in range(5):\n",
        "        print(\"Dame tu nombre\")\n",
        "        nombre=input()\n",
        "        empleado.append(nombre)\n",
        "\n",
        "        print(\"dame tu salario\")\n",
        "        salario=float(input())\n",
        "        pago.append(salario)\n",
        "\n",
        "def nomina(empleado, pago):\n",
        "    nt=0\n",
        "    pmay=0\n",
        "    empleadomay=0\n",
        "    for i in range(len(pago)):\n",
        "        nt+=pago[i]\n",
        "        if pago[i] > pmay:\n",
        "            pmay=pago[i]\n",
        "            empleadomay=empleado[i]\n",
        "    return nt, pmay, empleadomay\n",
        "\n",
        "def resultados(nt, pmay, empleadomay):\n",
        "    print(\"La nómina total es:\", nt)\n",
        "    print(\"El empleado que más gana es:\", empleadomay, \"con un salario de\", pmay)\n",
        "datos(empleado, pago)\n",
        "nomina, pmay, empleadomay = nomina(empleado, pago)\n",
        "resultados(nt, pmay, empleadomay)"
      ]
    }
  ]
}