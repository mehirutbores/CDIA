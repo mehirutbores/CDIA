{
  "nbformat": 4,
  "nbformat_minor": 0,
  "metadata": {
    "colab": {
      "provenance": []
    },
    "kernelspec": {
      "name": "python3",
      "display_name": "Python 3"
    },
    "language_info": {
      "name": "python"
    }
  },
  "cells": [
    {
      "cell_type": "code",
      "execution_count": 9,
      "metadata": {
        "colab": {
          "base_uri": "https://localhost:8080/"
        },
        "id": "yrsx_NwNr1te",
        "outputId": "a3ed0407-2a11-44be-8ca0-99a8076cb7d6"
      },
      "outputs": [
        {
          "output_type": "execute_result",
          "data": {
            "text/plain": [
              "['The Bodyguard', 7.0, 1992]"
            ]
          },
          "metadata": {},
          "execution_count": 9
        }
      ],
      "source": [
        "# Crear una lista\n",
        "L = [\"The Bodyguard\", 7.0, 1992]\n",
        "L"
      ]
    },
    {
      "cell_type": "code",
      "source": [
        "# Imprime los elementos en cada índice\n",
        "print('el mismo elemento usando indexación negativa y positiva:\\n Positivo:',L[0],\n",
        "      '\\n Negativo:' , L[-3] )\n",
        "print('el mismo elemento usando indexación negativa y positiva:\\n Positivo:',L[1],\n",
        "      '\\n Negativo:' , L[-2] )\n",
        "print('el mismo elemento usando indexación negativa y positiva:\\n Positivo:',L[2],\n",
        "      '\\n Negativo:' , L[-1] )"
      ],
      "metadata": {
        "colab": {
          "base_uri": "https://localhost:8080/"
        },
        "id": "-ueAyk4CxeGZ",
        "outputId": "1c89a979-29f3-4837-a233-3c8e237ad437"
      },
      "execution_count": 2,
      "outputs": [
        {
          "output_type": "stream",
          "name": "stdout",
          "text": [
            "el mismo elemento usando indexación negativa y positiva:\n",
            " Positivo: The Bodyguard \n",
            " Negativo: pop\n",
            "el mismo elemento usando indexación negativa y positiva:\n",
            " Positivo: 7.0 \n",
            " Negativo: 10\n",
            "el mismo elemento usando indexación negativa y positiva:\n",
            " Positivo: pop \n",
            " Negativo: ['a', 'b']\n"
          ]
        }
      ]
    },
    {
      "cell_type": "code",
      "source": [
        "# Lista de muestra\n",
        "[\"The Bodyguard\", 7.0, 1992, [1, 2], (\"A\", 1)]"
      ],
      "metadata": {
        "colab": {
          "base_uri": "https://localhost:8080/"
        },
        "id": "J1hYhVYSx1Q4",
        "outputId": "16bdbe64-b6f9-422b-c51c-0db147775950"
      },
      "execution_count": 3,
      "outputs": [
        {
          "output_type": "execute_result",
          "data": {
            "text/plain": [
              "['The Bodyguard', 7.0, 1992, [1, 2], ('A', 1)]"
            ]
          },
          "metadata": {},
          "execution_count": 3
        }
      ]
    },
    {
      "cell_type": "code",
      "source": [
        "# Segmentación de listas\n",
        "L[3:5]"
      ],
      "metadata": {
        "colab": {
          "base_uri": "https://localhost:8080/"
        },
        "id": "qnEVnTHGx8wK",
        "outputId": "be107406-d1c4-4c1a-f4d6-3e70013f91a8"
      },
      "execution_count": 4,
      "outputs": [
        {
          "output_type": "execute_result",
          "data": {
            "text/plain": [
              "[10, ['a', 'b']]"
            ]
          },
          "metadata": {},
          "execution_count": 4
        }
      ]
    },
    {
      "cell_type": "code",
      "source": [
        "# Usar append para agregar elementos a la lista\n",
        "L.append(['a','b'])\n",
        "L"
      ],
      "metadata": {
        "colab": {
          "base_uri": "https://localhost:8080/"
        },
        "id": "9K3raAkdyDwj",
        "outputId": "b90bced9-ff5d-4c2b-bbd8-6742f0196dd2"
      },
      "execution_count": 7,
      "outputs": [
        {
          "output_type": "execute_result",
          "data": {
            "text/plain": [
              "['The Bodyguard', 7.0, 'pop', 10, ['a', 'b'], ['a', 'b']]"
            ]
          },
          "metadata": {},
          "execution_count": 7
        }
      ]
    },
    {
      "cell_type": "code",
      "source": [
        "# Use extender para agregar elementos a la lista\n",
        "L = [ \"The Bodyguard\", 7.0]\n",
        "L.extend(['pop', 10])\n",
        "L"
      ],
      "metadata": {
        "colab": {
          "base_uri": "https://localhost:8080/"
        },
        "id": "8m3K5Qr-yMNa",
        "outputId": "c49e6491-a57a-4c70-ab24-bae9be494dd6"
      },
      "execution_count": 10,
      "outputs": [
        {
          "output_type": "execute_result",
          "data": {
            "text/plain": [
              "['The Bodyguard', 7.0, 'pop', 10]"
            ]
          },
          "metadata": {},
          "execution_count": 10
        }
      ]
    },
    {
      "cell_type": "code",
      "source": [
        "# Usar append para agregar elementos a la lista\n",
        "L.append(['a','b'])\n",
        "L"
      ],
      "metadata": {
        "colab": {
          "base_uri": "https://localhost:8080/"
        },
        "id": "egjdIoUXyQqj",
        "outputId": "139313ac-57dc-4a70-fc4b-ecf1a7063e0c"
      },
      "execution_count": 11,
      "outputs": [
        {
          "output_type": "execute_result",
          "data": {
            "text/plain": [
              "['The Bodyguard', 7.0, 'pop', 10, ['a', 'b']]"
            ]
          },
          "metadata": {},
          "execution_count": 11
        }
      ]
    },
    {
      "cell_type": "code",
      "source": [
        "# Cambiar el elemento en función del índice\n",
        "A = [\"disco\", 10, 1.2]\n",
        "print('Before change:', A)\n",
        "A[0] = 'hard rock'\n",
        "print('After change:', A)"
      ],
      "metadata": {
        "colab": {
          "base_uri": "https://localhost:8080/"
        },
        "id": "k2-U_PUiyVNg",
        "outputId": "54c6056d-a984-4f6a-a039-2c652efd58b1"
      },
      "execution_count": 12,
      "outputs": [
        {
          "output_type": "stream",
          "name": "stdout",
          "text": [
            "Before change: ['disco', 10, 1.2]\n",
            "After change: ['hard rock', 10, 1.2]\n"
          ]
        }
      ]
    },
    {
      "cell_type": "code",
      "source": [
        "# Eliminar el elemento en función del índice\n",
        "print('Before change:', A)\n",
        "del(A[0])\n",
        "print('After change:', A)"
      ],
      "metadata": {
        "colab": {
          "base_uri": "https://localhost:8080/"
        },
        "id": "23Uhq3AYyVhX",
        "outputId": "ce90bd7d-1b15-4c71-9e59-c709312c6a7d"
      },
      "execution_count": 13,
      "outputs": [
        {
          "output_type": "stream",
          "name": "stdout",
          "text": [
            "Before change: ['hard rock', 10, 1.2]\n",
            "After change: [10, 1.2]\n"
          ]
        }
      ]
    },
    {
      "cell_type": "code",
      "source": [
        "# Divida la cadena, el valor predeterminado es por espacio\n",
        "'hard rock'.split()"
      ],
      "metadata": {
        "colab": {
          "base_uri": "https://localhost:8080/"
        },
        "id": "-HGJsP9TyjlI",
        "outputId": "6a7771a6-7916-44e6-8f78-d5979055dd6c"
      },
      "execution_count": 14,
      "outputs": [
        {
          "output_type": "execute_result",
          "data": {
            "text/plain": [
              "['hard', 'rock']"
            ]
          },
          "metadata": {},
          "execution_count": 14
        }
      ]
    },
    {
      "cell_type": "code",
      "source": [
        "# Dividir la cadena por coma\n",
        "'A,B,C,D'.split(',')"
      ],
      "metadata": {
        "colab": {
          "base_uri": "https://localhost:8080/"
        },
        "id": "YrNAltyfyjs4",
        "outputId": "efc3e3be-039b-41f1-e90e-8961d4aa2980"
      },
      "execution_count": 15,
      "outputs": [
        {
          "output_type": "execute_result",
          "data": {
            "text/plain": [
              "['A', 'B', 'C', 'D']"
            ]
          },
          "metadata": {},
          "execution_count": 15
        }
      ]
    },
    {
      "cell_type": "code",
      "source": [
        "# Copiar (copiar por referencia) la lista A\n",
        "A = [\"hard rock\", 10, 1.2]\n",
        "B = A\n",
        "print('A:', A)\n",
        "print('B:', B)"
      ],
      "metadata": {
        "colab": {
          "base_uri": "https://localhost:8080/"
        },
        "id": "iv2MxFnvyVrJ",
        "outputId": "8ec35719-2746-4233-c50b-40cfd98af189"
      },
      "execution_count": 16,
      "outputs": [
        {
          "output_type": "stream",
          "name": "stdout",
          "text": [
            "A: ['hard rock', 10, 1.2]\n",
            "B: ['hard rock', 10, 1.2]\n"
          ]
        }
      ]
    },
    {
      "cell_type": "code",
      "source": [
        "# Examinar la copia por referencia\n",
        "print('B[0]:', B[0])\n",
        "A[0] = \"banana\"\n",
        "print('B[0]:', B[0])"
      ],
      "metadata": {
        "colab": {
          "base_uri": "https://localhost:8080/"
        },
        "id": "g3tLXYGqyssq",
        "outputId": "5c1e5837-4838-4fb8-cb3c-4846d9c3f64e"
      },
      "execution_count": 17,
      "outputs": [
        {
          "output_type": "stream",
          "name": "stdout",
          "text": [
            "B[0]: hard rock\n",
            "B[0]: banana\n"
          ]
        }
      ]
    },
    {
      "cell_type": "code",
      "source": [
        "# Clonar (clonar por valor) la lista A\n",
        "B = A[:]\n",
        "B\n",
        "print('B[0]:', B[0])\n",
        "A[0] = \"hard rock\"\n",
        "print('B[0]:', B[0])"
      ],
      "metadata": {
        "colab": {
          "base_uri": "https://localhost:8080/"
        },
        "id": "3STJ3z2Yys0S",
        "outputId": "1de074ad-1160-45ae-a815-e7dc7b734f86"
      },
      "execution_count": 18,
      "outputs": [
        {
          "output_type": "stream",
          "name": "stdout",
          "text": [
            "B[0]: banana\n",
            "B[0]: banana\n"
          ]
        }
      ]
    },
    {
      "cell_type": "code",
      "source": [
        "print('B[0]:', B[0])\n",
        "A[0] = \"hard rock\"\n",
        "print('B[0]:', B[0])"
      ],
      "metadata": {
        "colab": {
          "base_uri": "https://localhost:8080/"
        },
        "id": "nsSyHAp2zHKQ",
        "outputId": "70b9ac0b-fd37-48ed-973e-3d59f6b7576e"
      },
      "execution_count": 19,
      "outputs": [
        {
          "output_type": "stream",
          "name": "stdout",
          "text": [
            "B[0]: banana\n",
            "B[0]: banana\n"
          ]
        }
      ]
    },
    {
      "cell_type": "code",
      "source": [
        "#Cree una lista a_list, con los siguientes elementos 1, hello, [1,2,3] y True.\n",
        "a_list=[1, \"hello\", [1, 2, 3], True]\n",
        "a_list"
      ],
      "metadata": {
        "colab": {
          "base_uri": "https://localhost:8080/"
        },
        "id": "wHcyg1QE0LDK",
        "outputId": "de0e5072-6be5-4c04-e92e-d514891fa5d2"
      },
      "execution_count": 20,
      "outputs": [
        {
          "output_type": "execute_result",
          "data": {
            "text/plain": [
              "[1, 'hello', [1, 2, 3], True]"
            ]
          },
          "metadata": {},
          "execution_count": 20
        }
      ]
    },
    {
      "cell_type": "code",
      "source": [
        "#Encuentre el valor almacenado en el índice 1 de a_list.\n",
        "print (a_list[0])"
      ],
      "metadata": {
        "colab": {
          "base_uri": "https://localhost:8080/"
        },
        "id": "LJwymz0R0SPi",
        "outputId": "babbc023-bd52-46b4-cd62-c9afea2d97eb"
      },
      "execution_count": 21,
      "outputs": [
        {
          "output_type": "stream",
          "name": "stdout",
          "text": [
            "1\n"
          ]
        }
      ]
    },
    {
      "cell_type": "code",
      "source": [
        "#Recupere los elementos almacenados en el índice 1, 2 y 3 de a_list.\n",
        "print(a_list[1:4])"
      ],
      "metadata": {
        "colab": {
          "base_uri": "https://localhost:8080/"
        },
        "id": "RqePOHPI0W7p",
        "outputId": "28a06311-ee9a-4ad7-9eff-aa54a0ddd121"
      },
      "execution_count": 22,
      "outputs": [
        {
          "output_type": "stream",
          "name": "stdout",
          "text": [
            "['hello', [1, 2, 3], True]\n"
          ]
        }
      ]
    },
    {
      "cell_type": "code",
      "source": [
        "# Tarea 1: Crear una lista vacía\n",
        "shopping_list = []\n",
        "print(shopping_list)"
      ],
      "metadata": {
        "colab": {
          "base_uri": "https://localhost:8080/"
        },
        "id": "CO_myE2C3xRb",
        "outputId": "96dc09db-8c41-4d62-e443-f5b52b53b08d"
      },
      "execution_count": 45,
      "outputs": [
        {
          "output_type": "stream",
          "name": "stdout",
          "text": [
            "[]\n"
          ]
        }
      ]
    },
    {
      "cell_type": "code",
      "metadata": {
        "colab": {
          "base_uri": "https://localhost:8080/"
        },
        "id": "3b0cc661",
        "outputId": "654d6a52-07d4-44b4-c2aa-6368d04914a2"
      },
      "source": [
        "# Tarea 2: Ahora almacene el número de elementos en el shopping_list\n",
        "shopping_list = [\"Reloj\", \"Portátil\", \"Calzado\", \"Pluma\", \"Ropa\"]\n",
        "print(\"Lista de compras:\", shopping_list)"
      ],
      "execution_count": 49,
      "outputs": [
        {
          "output_type": "stream",
          "name": "stdout",
          "text": [
            "Lista de compras: ['Reloj', 'Portátil', 'Calzado', 'Pluma', 'Ropa']\n"
          ]
        }
      ]
    },
    {
      "cell_type": "code",
      "source": [
        "#Tarea 3: Agregar un nuevo elemento al shopping_list\n",
        "shopping_list.append(['balon'])\n",
        "shopping_list"
      ],
      "metadata": {
        "colab": {
          "base_uri": "https://localhost:8080/"
        },
        "id": "vunauSBO_tIy",
        "outputId": "268900b0-c3cc-46a7-90dc-3ad556f691e5"
      },
      "execution_count": 101,
      "outputs": [
        {
          "output_type": "execute_result",
          "data": {
            "text/plain": [
              "['Reloj',\n",
              " 'Portátil',\n",
              " 'Calzado',\n",
              " 'Pluma',\n",
              " 'Ropa',\n",
              " ['balon'],\n",
              " ['balon de futbol'],\n",
              " ['balon de futbol'],\n",
              " ['balon de futbol'],\n",
              " ['balon'],\n",
              " ['balon'],\n",
              " ['balon'],\n",
              " ['balon'],\n",
              " ['balon'],\n",
              " ['balon'],\n",
              " ['balon'],\n",
              " ['no se por que sale asi profe :( )'],\n",
              " ['balon']]"
            ]
          },
          "metadata": {},
          "execution_count": 101
        }
      ]
    },
    {
      "cell_type": "code",
      "source": [
        "#Tarea 4: Imprimir el primer artículo de la lista de compras\n",
        "print(\"primer artículo de la lista:\", shopping_list[0])"
      ],
      "metadata": {
        "colab": {
          "base_uri": "https://localhost:8080/"
        },
        "id": "w2859pXuA7eB",
        "outputId": "33a596b3-2d09-4a88-dcea-9c67cf63e9da"
      },
      "execution_count": 80,
      "outputs": [
        {
          "output_type": "stream",
          "name": "stdout",
          "text": [
            "primer artículo de la lista: Reloj\n"
          ]
        }
      ]
    },
    {
      "cell_type": "code",
      "source": [
        "#Tarea 5: Imprimir Último elemento del shopping_list\n",
        "print(\"El último elemento de la lista de compras es:\", shopping_list[-1])"
      ],
      "metadata": {
        "colab": {
          "base_uri": "https://localhost:8080/"
        },
        "id": "x9AZ0XaxCSx7",
        "outputId": "a082e0dd-c3e6-4623-c10d-43bb365aae76"
      },
      "execution_count": 83,
      "outputs": [
        {
          "output_type": "stream",
          "name": "stdout",
          "text": [
            "El último elemento de la lista de compras es: Ropa\n"
          ]
        }
      ]
    },
    {
      "cell_type": "code",
      "source": [
        "#Tarea 6: Imprimir toda la lista de compras\n",
        "print(\"La lista de compras completa es:\", shopping_list)"
      ],
      "metadata": {
        "colab": {
          "base_uri": "https://localhost:8080/"
        },
        "id": "No2Owx3WDocp",
        "outputId": "722ed88b-879a-48bf-fc43-21635a8b941a"
      },
      "execution_count": 102,
      "outputs": [
        {
          "output_type": "stream",
          "name": "stdout",
          "text": [
            "La lista de compras completa es: ['Reloj', 'Portátil', 'Calzado', 'Pluma', 'Ropa', ['balon'], ['balon de futbol'], ['balon de futbol'], ['balon de futbol'], ['balon'], ['balon'], ['balon'], ['balon'], ['balon'], ['balon'], ['balon'], ['no se por que sale asi profe :( )'], ['balon']]\n"
          ]
        }
      ]
    },
    {
      "cell_type": "code",
      "source": [],
      "metadata": {
        "id": "v__U7BTXFsaU"
      },
      "execution_count": null,
      "outputs": []
    },
    {
      "cell_type": "code",
      "metadata": {
        "colab": {
          "base_uri": "https://localhost:8080/"
        },
        "id": "NN4_ZusiFCQS",
        "outputId": "95598444-0969-4c31-9ae5-590a55e623ba"
      },
      "source": [
        "# Tarea 7: Imprimir los artículos importantes de la lista de compras\n",
        "articuloimp = [\"laptop\", \"Calzado\"]\n",
        "for item in articuloimp:\n",
        "  if item in shopping_list:\n",
        "    print(\"Un artículo importante es:\", shopping_list[shopping_list.index(item)])\n",
        "  else:\n",
        "    print(f\"{item} no esta en la lista.\")"
      ],
      "execution_count": 108,
      "outputs": [
        {
          "output_type": "stream",
          "name": "stdout",
          "text": [
            "laptop no esta en la lista.\n",
            "Un artículo importante es: Calzado\n"
          ]
        }
      ]
    },
    {
      "cell_type": "code",
      "source": [
        "#Tarea 8: Cambiar el elemento del shopping_list\n",
        "A = [\"Boligrafo\"]\n",
        "print('Before change:', A)\n",
        "A[0] = 'cuaderno'\n",
        "print('After change:', A)"
      ],
      "metadata": {
        "colab": {
          "base_uri": "https://localhost:8080/"
        },
        "id": "N8UCoUO9GYlb",
        "outputId": "662538cd-e06b-454f-9e7c-ce440e6a8949"
      },
      "execution_count": 112,
      "outputs": [
        {
          "output_type": "stream",
          "name": "stdout",
          "text": [
            "Before change: ['Boligrafo']\n",
            "After change: ['cuaderno']\n"
          ]
        }
      ]
    },
    {
      "cell_type": "code",
      "source": [
        "#Tarea 9: Eliminar el elemento del shopping_list que no es necesario\n",
        "C = [\"Ropa\"]\n",
        "print('Before change:', C)\n",
        "del(C[0])\n",
        "print('After change:', C)\n"
      ],
      "metadata": {
        "colab": {
          "base_uri": "https://localhost:8080/"
        },
        "id": "CLS0NHEHRSR5",
        "outputId": "dc0deeb9-b77e-46c2-bb4e-6fd0f6593128"
      },
      "execution_count": 114,
      "outputs": [
        {
          "output_type": "stream",
          "name": "stdout",
          "text": [
            "Before change: ['Ropa']\n",
            "After change: []\n"
          ]
        }
      ]
    },
    {
      "cell_type": "code",
      "source": [
        "#Tarea 10: Imprimir la lista de la compra\n",
        "print(\"La lista de compras es:\", shopping_list)"
      ],
      "metadata": {
        "colab": {
          "base_uri": "https://localhost:8080/"
        },
        "id": "Wk9V1Q3ORrUL",
        "outputId": "697233b4-92c2-4629-be0b-72c0a4adb6f1"
      },
      "execution_count": 115,
      "outputs": [
        {
          "output_type": "stream",
          "name": "stdout",
          "text": [
            "La lista de compras es: ['Reloj', 'Portátil', 'Calzado', 'cuaderno', 'Ropa', ['balon'], ['balon de futbol'], ['balon de futbol'], ['balon de futbol'], ['balon'], ['balon'], ['balon'], ['balon'], ['balon'], ['balon'], ['balon'], ['no se por que sale asi profe :( )'], ['balon']]\n"
          ]
        }
      ]
    }
  ]
}