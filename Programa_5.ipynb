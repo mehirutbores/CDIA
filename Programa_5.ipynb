{
  "nbformat": 4,
  "nbformat_minor": 0,
  "metadata": {
    "colab": {
      "provenance": []
    },
    "kernelspec": {
      "name": "python3",
      "display_name": "Python 3"
    },
    "language_info": {
      "name": "python"
    }
  },
  "cells": [
    {
      "cell_type": "code",
      "execution_count": 20,
      "metadata": {
        "colab": {
          "base_uri": "https://localhost:8080/"
        },
        "id": "zt4LwvarSyek",
        "outputId": "70f5e213-cb0f-46eb-da1e-ce5b039c34b2"
      },
      "outputs": [
        {
          "output_type": "stream",
          "name": "stdout",
          "text": [
            "{'Nombre': 'Mehirut', 'color favorito': 'morado', 'comida favorita': 'tacos', 'Fruta favorita': 'lichis', 'Materia favorita': 'quimica', 'Edad': 15, 'Matricula': 241690448, 'carrera': 'CDIA', 'team agua de horchata o jamaica': 'jamaica'}\n",
            "Mehirut\n"
          ]
        }
      ],
      "source": [
        "diccionario= {\n",
        "  \"Nombre\": \"Mehirut\",\n",
        "  \"color favorito\": \"morado\",\n",
        "  \"comida favorita\": \"tacos\",\n",
        "  \"Fruta favorita\": \"lichis\",\n",
        "  \"Materia favorita\": \"quimica\",\n",
        "  \"Edad\": 15,\n",
        "  \"Matricula\": 241690450-2,\n",
        "  \"carrera\": \"CDIA\",\n",
        "  \"team agua de horchata o jamaica\": \"jamaica\"\n",
        "}\n",
        "#Para modificar un elemento basta con usar [] con el nombre del campo y asignar el valor que queremos como\n",
        "#d1['Nombre'] = \"panchito\"\n",
        "#print(d1)\n",
        "print(diccionario)\n",
        "print(diccionario['Nombre'])\n",
        "#Se puede acceder a sus elementos con [] o también con la función get()\n",
        "#print(d1['Nombre'])\n",
        "#print(d1.get('Nombre'))"
      ]
    }
  ]
}