{
  "nbformat": 4,
  "nbformat_minor": 0,
  "metadata": {
    "colab": {
      "provenance": []
    },
    "kernelspec": {
      "name": "python3",
      "display_name": "Python 3"
    },
    "language_info": {
      "name": "python"
    }
  },
  "cells": [
    {
      "cell_type": "code",
      "execution_count": null,
      "metadata": {
        "colab": {
          "base_uri": "https://localhost:8080/"
        },
        "id": "IcodSES_GK3I",
        "outputId": "44f94a35-6b4d-4d23-c5bf-2a2f48d14b33"
      },
      "outputs": [
        {
          "output_type": "stream",
          "name": "stdout",
          "text": [
            "Dame la calificacion\n"
          ]
        }
      ],
      "source": [
        "calif=[]\n",
        "califica=0\n",
        "def promedio(calif,sum):\n",
        "  sum=0\n",
        "  c=[]\n",
        "  for i in range(10):\n",
        "    print(\"Dame la calificacion\")\n",
        "    c2 = float(input())\n",
        "    calif.append(c2)\n",
        "    if  (c2>=8.5):\n",
        "      sum=sum+1\n",
        "  return (sum)\n",
        "print(\"estos son los que tienen mayor promedio de 8.5 son: \", promedio(calif, sum))"
      ]
    }
  ]
}