{
  "nbformat": 4,
  "nbformat_minor": 0,
  "metadata": {
    "colab": {
      "provenance": []
    },
    "kernelspec": {
      "name": "python3",
      "display_name": "Python 3"
    },
    "language_info": {
      "name": "python"
    }
  },
  "cells": [
    {
      "cell_type": "code",
      "execution_count": 2,
      "metadata": {
        "colab": {
          "base_uri": "https://localhost:8080/"
        },
        "id": "SFhSxfRHn1Jn",
        "outputId": "c9d9f90d-bdd0-46d9-8e8d-d288ffc6e3a2"
      },
      "outputs": [
        {
          "output_type": "stream",
          "name": "stdout",
          "text": [
            "La temperatura en Fahrenheit: [80, 72, 95, 82, 79, 72, 85]\n",
            "La temperatura en Celsius: [26.666666666666668, 22.22222222222222, 35.0, 27.77777777777778, 26.11111111111111, 22.22222222222222, 29.444444444444443]\n"
          ]
        }
      ],
      "source": [
        "temperatura=[80, 72, 95, 82, 79, 72, 85]\n",
        "celsius=[(t-32)*5/9 for t in temperatura]\n",
        "print(\"La temperatura en Fahrenheit:\", temperatura)\n",
        "print(\"La temperatura en Celsius:\", celsius)"
      ]
    }
  ]
}