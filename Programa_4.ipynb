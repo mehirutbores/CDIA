{
  "nbformat": 4,
  "nbformat_minor": 0,
  "metadata": {
    "colab": {
      "provenance": []
    },
    "kernelspec": {
      "name": "python3",
      "display_name": "Python 3"
    },
    "language_info": {
      "name": "python"
    }
  },
  "cells": [
    {
      "cell_type": "code",
      "execution_count": 6,
      "metadata": {
        "colab": {
          "base_uri": "https://localhost:8080/"
        },
        "id": "d9qkV22ncCEy",
        "outputId": "ee803403-1147-405e-f8f1-61a50863dbf2"
      },
      "outputs": [
        {
          "output_type": "stream",
          "name": "stdout",
          "text": [
            "dame el nombre de la persona 1\n",
            "moi\n",
            "dame la edad de la persona 1\n",
            "10\n",
            "dame el nombre de la persona 2\n",
            "mei\n",
            "dame la edad de la persona 2\n",
            "20\n",
            "dame el nombre de la persona 3\n",
            "mui\n",
            "dame la edad de la persona 3\n",
            "29\n",
            "dame el nombre de la persona 4\n",
            "mehirut\n",
            "dame la edad de la persona 4\n",
            "9\n",
            "dame el nombre de la persona 5\n",
            "ashley\n",
            "dame la edad de la persona 5\n",
            "16\n",
            "dame el nombre de la persona 6\n",
            "aviña\n",
            "dame la edad de la persona 6\n",
            "19\n",
            "dame el nombre de la persona 7\n",
            "oli\n",
            "dame la edad de la persona 7\n",
            "17\n",
            "dame el nombre de la persona 8\n",
            "javier\n",
            "dame la edad de la persona 8\n",
            "49\n",
            "dame el nombre de la persona 9\n",
            "naomi\n",
            "dame la edad de la persona 9\n",
            "18\n",
            "dame el nombre de la persona 10\n",
            "michell\n",
            "dame la edad de la persona 10\n",
            "16\n",
            "Las personas mayores de edad: 5\n",
            "Las personas menores de edad: 5\n"
          ]
        }
      ],
      "source": [
        "def leer_edades():\n",
        "    edades = []\n",
        "    nombres = []\n",
        "    for i in range(10):\n",
        "        print(f\"dame el nombre de la persona {i+1}\")\n",
        "        nombre = input()\n",
        "        nombres.append(nombre)\n",
        "\n",
        "        print(f\"dame la edad de la persona {i+1}\")\n",
        "        edad = int(input())\n",
        "        edades.append(edad)\n",
        "    return edades\n",
        "\n",
        "def mayores_menores(edades):\n",
        "    mayores_edad = 0\n",
        "    menores_edad = 0\n",
        "    for edad in edades:\n",
        "        if edad >= 18:\n",
        "            mayores_edad += 1\n",
        "        else:\n",
        "            menores_edad += 1\n",
        "    return mayores_edad, menores_edad\n",
        "\n",
        "def resultados(mayores, menores):\n",
        "    print(f\"Las personas mayores de edad: {mayores}\")\n",
        "    print(f\"Las personas menores de edad: {menores}\")\n",
        "\n",
        "edades = leer_edades()\n",
        "mayores, menores = mayores_menores(edades)\n",
        "resultados(mayores, menores)"
      ]
    }
  ]
}