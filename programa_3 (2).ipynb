{
  "nbformat": 4,
  "nbformat_minor": 0,
  "metadata": {
    "colab": {
      "provenance": []
    },
    "kernelspec": {
      "name": "python3",
      "display_name": "Python 3"
    },
    "language_info": {
      "name": "python"
    }
  },
  "cells": [
    {
      "cell_type": "code",
      "execution_count": 6,
      "metadata": {
        "colab": {
          "base_uri": "https://localhost:8080/"
        },
        "id": "97jnZausTxyS",
        "outputId": "c01f9248-f97f-4b14-f86b-f66a42ba2d83"
      },
      "outputs": [
        {
          "output_type": "stream",
          "name": "stdout",
          "text": [
            "dame tu nombre\n",
            "mei\n",
            "dame tu salario\n",
            "200\n",
            "dame tu nombre\n",
            "mai\n",
            "dame tu salario\n",
            "300\n",
            "dame tu nombre\n",
            "moi\n",
            "dame tu salario\n",
            "400\n",
            "dame tu nombre\n",
            "mui\n",
            "dame tu salario\n",
            "100\n",
            "dame tu nombre\n",
            "mii\n",
            "dame tu salario\n",
            "900\n",
            "La nómina total es: 1900.0\n",
            "El empleado que más gana es: 0 con un salario de 900.0\n"
          ]
        }
      ],
      "source": [
        "empleado = []\n",
        "salario = []\n",
        "nt = 0\n",
        "mayp = 0\n",
        "empleadomay = 0\n",
        "\n",
        "def datos(empleado, pago):\n",
        "    for i in range(5):\n",
        "        print(\"dame tu nombre\")\n",
        "        nombre= input()\n",
        "        empleado.append(nombre)\n",
        "\n",
        "        print(\"dame tu salario\")\n",
        "        salario = float(input())\n",
        "        pago.append(salario)\n",
        "\n",
        "def nomina(empleado, pago):\n",
        "    nt = 0\n",
        "    mayp = 0\n",
        "    empleadomay = 0\n",
        "    for i in range(len(salario)):\n",
        "        nt += salario[i]\n",
        "        if salario [i] > mayp:\n",
        "            mayp = salario[i]\n",
        "            empleadomay = empleado[i]\n",
        "    return nt, mayp, empleadomay\n",
        "\n",
        "def resultados(total_nomina, max_pago, empleado_max):\n",
        "    print(\"La nómina total es:\", nt)\n",
        "    print(\"El empleado que más gana es:\", empleadomay, \"con un salario de\", mayp)\n",
        "\n",
        "datos(empleado, salario)\n",
        "nt, mayp, empleadpmay = nomina(empleado, salario)\n",
        "resultados(nt, mayp, empleadomay)"
      ]
    }
  ]
}