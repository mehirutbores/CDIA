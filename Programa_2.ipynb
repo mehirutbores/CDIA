{
  "nbformat": 4,
  "nbformat_minor": 0,
  "metadata": {
    "colab": {
      "provenance": []
    },
    "kernelspec": {
      "name": "python3",
      "display_name": "Python 3"
    },
    "language_info": {
      "name": "python"
    }
  },
  "cells": [
    {
      "cell_type": "code",
      "execution_count": 2,
      "metadata": {
        "colab": {
          "base_uri": "https://localhost:8080/"
        },
        "id": "ADBXnBhPY5oJ",
        "outputId": "ffb47af1-d981-4abf-bf07-351ec02c1688"
      },
      "outputs": [
        {
          "output_type": "stream",
          "name": "stdout",
          "text": [
            "dame el nombre mai\n",
            "dame la calificacion 10\n",
            "dame el nombre mei\n",
            "dame la calificacion 9\n",
            "dame el nombre mii\n",
            "dame la calificacion 8\n",
            "dame el nombre moi\n",
            "dame la calificacion 7\n",
            "dame el nombre mui\n",
            "dame la calificacion 6\n",
            "dame el nombre mehi\n",
            "dame la calificacion 5\n",
            "dame el nombre ashley\n",
            "dame la calificacion 9\n",
            "dame el nombre javier\n",
            "dame la calificacion 5\n",
            "dame el nombre naomi\n",
            "dame la calificacion 8\n",
            "dame el nombre oli\n",
            "dame la calificacion 9\n",
            "Alumnos con mayor promedio \n",
            "mai\n",
            "mei\n",
            "ashley\n",
            "oli\n"
          ]
        }
      ],
      "source": [
        "calif=[]\n",
        "nombres=[]\n",
        "nommayor=[]\n",
        "\n",
        "def leer (c,n):\n",
        "    for i in range(10):\n",
        "        n.append(input(\"dame el nombre \" ))\n",
        "        c.append(float(input(\"dame la calificacion \" )))\n",
        "\n",
        "def alumno_mayor (c,n,nm):\n",
        "    for i in range (10):\n",
        "      if c[i]>8.5:\n",
        "        nm.append(n[i])\n",
        "\n",
        "def resultado (nm):\n",
        "    print(\"Alumnos con mayor promedio \" )\n",
        "    for i in nm:\n",
        "        print(f\"{i}\")\n",
        "\n",
        "leer(calif, nombres)\n",
        "alumno_mayor(calif, nombres, nommayor)\n",
        "resultado(nommayor)"
      ]
    }
  ]
}